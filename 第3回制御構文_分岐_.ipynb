{
  "nbformat": 4,
  "nbformat_minor": 0,
  "metadata": {
    "colab": {
      "provenance": []
    },
    "kernelspec": {
      "name": "python3",
      "display_name": "Python 3"
    },
    "language_info": {
      "name": "python"
    }
  },
  "cells": [
    {
      "cell_type": "markdown",
      "source": [
        "# 偶数奇数の判定プログラム\n",
        "if構文を利用して偶数と奇数を判定する簡単なプログラムを作ってみましょう。<br>\n",
        "偶数・・・２で割り切れる<br>\n",
        "奇数・・・２で割り切れない<br>\n",
        "<br>\n",
        "プログラムで偶数・奇数を判定するにはどうしたらいいかな？？？？？\n"
      ],
      "metadata": {
        "id": "QuQ0TCogr0Pw"
      }
    },
    {
      "cell_type": "code",
      "source": [
        "#数値を入力してもらい、データを取得する\n",
        "\n",
        "\n",
        "#奇数・偶数の判定をし、奇数の場合は「奇数です」　偶数の場合は「偶数です」と表示する\n",
        "\n",
        "\n",
        "\n"
      ],
      "metadata": {
        "id": "NoWFtmWZ1EcN"
      },
      "execution_count": null,
      "outputs": []
    },
    {
      "cell_type": "markdown",
      "source": [
        "# サンプルプログラム「心理テスト」\n",
        "質問と選択肢を表示し、ユーザが質問を選ぶとそれに応じた答えを表示するプログラムです。<br>\n",
        "実際にプログラムを実行してみよう。<br>\n",
        "ソースコードを理解できるかな？<br><br>\n",
        "\n",
        "\n",
        "【if構文の連続判定】<br>\n",
        "プログラム(*4)の部分では、if...elif...elif...のようなifの連続判定を行っています。<br>\n",
        "「elif」というのはelse + if の短縮形です。<br>\n",
        "\n",
        "\n",
        ">if 条件1:<br>\n",
        "　　　条件1が正しい時の処理<br>\n",
        "elif 条件2:<br>\n",
        "　　　条件2が正しい時の処理<br>\n",
        "elif 条件3:<br>\n",
        "　　　条件3が正しい時の処理<br>\n",
        "else:<br>\n",
        "　　　その他の処理<br>\n",
        "\n",
        "\n",
        "\n",
        "\n",
        "\n"
      ],
      "metadata": {
        "id": "Z49zJy96C1cX"
      }
    },
    {
      "cell_type": "code",
      "source": [
        "# 質問を画面に表示 --- (*1)\n",
        "print(\"これから無人島でしばらく一人で生活しなくてはなりません。\")\n",
        "print(\"好きなものを一つだけ持って行くとしたら何を持って行く？\")\n",
        "print(\"1: ナイフ\")\n",
        "print(\"2: 携帯電話\")\n",
        "print(\"3: 漫画\")\n",
        "\n",
        "# ユーザーから回答を入力 --- (*2)\n",
        "s = input(\"答えは？\")\n",
        "i = int(s)\n",
        "\n",
        "# 無効な答えかどうかを調べる --- (*3)\n",
        "if i < 1:\n",
        "    print(\"範囲外\")\n",
        "    quit()\n",
        "if i > 3:\n",
        "    print(\"範囲外\")\n",
        "    quit()\n",
        "\n",
        "# 答えを表示 --- (*4)\n",
        "print(\"\\n----\\n\")\n",
        "print(\"無人島生活から、将来の恋人について分かります。\")\n",
        "if i == 1:\n",
        "    print(\"現実的な道具を選んだあなたは..\")\n",
        "    print(\"現実的な身の丈にあった相手を選ぶでしょう。\")\n",
        "elif i == 2:\n",
        "    print(\"誰かとつながる道具を選んだあなたは..\")\n",
        "    print(\"話し好きな賑やかな相手が相応しいでしょう。\")\n",
        "elif i == 3:\n",
        "    print(\"実用よりも娯楽アイテムを選んだあなたは..\")\n",
        "    print(\"夢見がちなので、理想がとても高いでしょう。\")"
      ],
      "metadata": {
        "id": "-UjVBQAcDP6N"
      },
      "execution_count": null,
      "outputs": []
    },
    {
      "cell_type": "markdown",
      "source": [
        "\n",
        "# 【AまたはBを表す　or】\n",
        "遊園地の入場料金は、6才未満の子供と60才以上のシニアは500円、それ以外は1100円です。<br>\n",
        "入場料金を表示するプログラムを作成しよう。\n"
      ],
      "metadata": {
        "id": "9tA-mDKEnVor"
      }
    },
    {
      "cell_type": "code",
      "source": [
        "#年齢を入力してもらう\n",
        "\n",
        "\n",
        "#年齢から料金を判定し、表示する\n",
        "\n",
        "\n",
        "\n"
      ],
      "metadata": {
        "id": "wJJqP11zpR4C"
      },
      "execution_count": null,
      "outputs": []
    },
    {
      "cell_type": "code",
      "source": [],
      "metadata": {
        "id": "aq14imturvzP"
      },
      "execution_count": null,
      "outputs": []
    },
    {
      "cell_type": "markdown",
      "source": [
        "# 【AかつBを表す　and】\n",
        "先程の問題は、6才以上60才未満の人は1100円、それ以外は500円と言い換えることができますね。<br>\n",
        "では、「and」を使ってプログラムを書き換えてみましょう。"
      ],
      "metadata": {
        "id": "glLbHXR6p9tY"
      }
    },
    {
      "cell_type": "code",
      "source": [
        "#年齢を入力してもらう\n",
        "\n",
        "\n",
        "#年齢から料金を判定し、表示する\n",
        "\n",
        "\n",
        "\n"
      ],
      "metadata": {
        "id": "6kiPadQiq-uz"
      },
      "execution_count": null,
      "outputs": []
    },
    {
      "cell_type": "markdown",
      "source": [
        "# 【演習】BMI判定テストプログラム\n",
        "身長と体重から肥満度を計算するBMI（Body Mass Index)を計算して、「低体重（やせ型）」「普通体重」「肥満」を表示しよう。<br><br>\n",
        "\n",
        "　　　　　BMI　＝　体重kg　/　(身長cm　/　100)　**　2 <br><br>\n",
        "\n",
        "BMI指数　18.5未満・・・・・・「低体重（やせ型）」<br>\n",
        "BMI指数　18.5以上25未満・・・「普通体重」<br>\n",
        "BMI指数　25以上・・・・・・・「肥満」<br>\n",
        "\n",
        "\n",
        "\n",
        "\n",
        "\n",
        "\n",
        "\n"
      ],
      "metadata": {
        "id": "7DjVnhUriAoK"
      }
    },
    {
      "cell_type": "code",
      "source": [
        "#体重(w)と身長(h)の入力からデータを取得する\n",
        "\n",
        "\n",
        "#BMIを計算\n",
        "\n",
        "\n",
        "#BMIを出力してみよう\n",
        "\n",
        "\n",
        "#BMI値で判定\n",
        "\n",
        "\n",
        "\n",
        "\n",
        "\n"
      ],
      "metadata": {
        "id": "66d37sTAlDga"
      },
      "execution_count": 1,
      "outputs": []
    }
  ]
}